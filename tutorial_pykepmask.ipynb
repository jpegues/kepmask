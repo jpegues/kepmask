{
 "cells": [
  {
   "cell_type": "markdown",
   "metadata": {},
   "source": [
    "# A Tutorial of the $\\texttt{pykepmask}$ Package"
   ]
  },
  {
   "cell_type": "markdown",
   "metadata": {},
   "source": [
    "## Overview\n",
    "\n",
    "Welcome to the interactive tutorial of the $\\texttt{pykepmask}$ package!\n",
    "\n",
    "$\\texttt{pykepmask}$ can be used to generate Keplerian masks.  These masks are useful for extracting molecular line emission (e.g., C$^{18}$O emission) in disks undergoing Keplerian rotation around host stars.  Protoplanetary disks are a great example of such disks (e.g., the infamous disk TW Hya), and are what this package was originally designed for.\n",
    "\n",
    "Let's go ahead and get started!"
   ]
  },
  {
   "cell_type": "markdown",
   "metadata": {},
   "source": [
    "## Outline\n",
    "\n",
    "Here's everything that we'll be covering in this tutorial:\n",
    "1. Package Installation\n",
    "1. Package Use: the KepMask class\n",
    "    1. Loading in and accessing disk parameters\n",
    "    1. Generating Keplerian masks for an (ALMA) image cube\n",
    "    1. Accessing and plotting masked image products (e.g., mom0s and spectra)\n",
    "    1. Masks with hyperfine structure\n"
   ]
  },
  {
   "cell_type": "markdown",
   "metadata": {},
   "source": [
    "## Package Installation"
   ]
  },
  {
   "cell_type": "markdown",
   "metadata": {},
   "source": [
    "The full package can be found in the *pykepmask* folder on the GitHub page: (https://github.com/jpegues/kepmask).  Download the *pykepmask* folder somewhere are your computer.\n",
    "\n",
    "Since *pykepmask* isn't an official Python package (at least, not at the moment), it can't be installed via the fancy Python **pip-install** procedure.  So you will have to add the location of the *pykepmask* folder to your Python PATH.  There are different ways to do this, but here we'll use the Python $\\texttt{sys}$ package to do so:"
   ]
  },
  {
   "cell_type": "code",
   "execution_count": 1,
   "metadata": {},
   "outputs": [],
   "source": [
    "#Import the sys package\n",
    "import sys\n",
    "\n",
    "#Add the location of the pykepmask folder to the Python PATH\n",
    "filepath = \"/usr/path/to/folder\" #Path to pykepmask folder; you should change this to point to your downloaded pykepmask folder\n",
    "sys.path.insert(1, filepath)"
   ]
  },
  {
   "cell_type": "markdown",
   "metadata": {},
   "source": [
    "Now, we can import the $\\texttt{pykepmask}$ package:"
   ]
  },
  {
   "cell_type": "code",
   "execution_count": 2,
   "metadata": {},
   "outputs": [],
   "source": [
    "import pykepmask"
   ]
  },
  {
   "cell_type": "markdown",
   "metadata": {},
   "source": [
    "If this gives an error, check that you set the value for the variable ***filepath*** correctly in the above code segment.  The file path must be an absolute path, not a relative path - i.e., something like \"../folder\" will not work.  Also, make sure that the slashes are facing the correct way (e.g., Windows machines might use \"\\path\\to\\folder\" instead)."
   ]
  },
  {
   "cell_type": "markdown",
   "metadata": {},
   "source": [
    "## Package Use: the KepMask class"
   ]
  },
  {
   "cell_type": "markdown",
   "metadata": {},
   "source": [
    "A quick note for you, as a user:\n",
    "\n",
    "The sparkling new $\\texttt{pykepmask}$ package is essentially a user-friendly wrapper for the much-less-user-friendly previous iteration of this package (which was basically just a couple of scripts).  As a user, **you only need to interact with the $\\texttt{KepMask}$ class**.  Poke around at the other stuff in the *pykepmask* folder at your own risk (but we don't advise doing so)."
   ]
  },
  {
   "cell_type": "markdown",
   "metadata": {},
   "source": [
    "With that note out of the way - let's explore the $\\texttt{KepMask}$ class!  We're going to use $\\texttt{KepMask}$ to generate Keplerian masks for the data .fits files included with this tutorial (available on [the GitHub page](https://github.com/jpegues/kepmask))."
   ]
  },
  {
   "cell_type": "markdown",
   "metadata": {},
   "source": [
    "### The data files\n"
   ]
  },
  {
   "cell_type": "markdown",
   "metadata": {},
   "source": [
    "**This package is specifically designed for ALMA data, and assumes you've already reduced+imaged+extracted .fits file(s) containing the image cube(s) for your molecular line observation(s) toward some Keplerian disk(s).**  ALMA stands for the Atacama Large Millimeter/submillimeter Array, located in Chile.\n",
    "\n",
    "There are two data files included with this tutorial:\n",
    "1. J1604-2130_H2CO_303-202.fits\n",
    "1. J1100-7619_HCN32.fits\n",
    "\n",
    "The first data file contains formaldehyde (H$_2$CO; transition=3$_{03}$-2$_{02}$) observed toward the protoplanetary disk J1604-2130.  This data was observed during ALMA Project 2015.1.00964.S and is available on the ALMA archive.  The data was reduced/presented/used in Pegues et al. (accepted).\n",
    "\n",
    "The second data file contains hydrogen cyanide (HCN; transition=3-2), which has *interesting* hyperfine structure.  This molecular line was observed toward the protoplanetary disk J1100-7619.  The data was observed during ALMA Project 2017.1.01107.S and is also available on the ALMA archive.  The data was reduced/presented/used in Pegues et al. (in prep)."
   ]
  },
  {
   "cell_type": "markdown",
   "metadata": {},
   "source": [
    "### Loading in and accessing disk parameters"
   ]
  },
  {
   "cell_type": "markdown",
   "metadata": {},
   "source": [
    "The $\\texttt{KepMask}$ class is in the $\\texttt{kepmask}$ module of the $\\texttt{pykepmask}$ package.  Let's go ahead and import the $\\texttt{kepmask}$ module under the nickname ***km***:"
   ]
  },
  {
   "cell_type": "code",
   "execution_count": 3,
   "metadata": {},
   "outputs": [],
   "source": [
    "#Import the kepmask module as km\n",
    "from pykepmask import kepmask as km"
   ]
  },
  {
   "cell_type": "markdown",
   "metadata": {},
   "source": [
    "An easy way to see what's in the $\\texttt{KepMask}$ class is via the Python built-in ***help()*** function:"
   ]
  },
  {
   "cell_type": "code",
   "execution_count": 4,
   "metadata": {},
   "outputs": [
    {
     "name": "stdout",
     "output_type": "stream",
     "text": [
      "Help on class KepMask in module pykepmask.kepmask:\n",
      "\n",
      "class KepMask(builtins.object)\n",
      " |  KepMask(**kwargs)\n",
      " |  \n",
      " |  Methods defined here:\n",
      " |  \n",
      " |  __init__(self, **kwargs)\n",
      " |      METHOD: __init__\n",
      " |      PURPOSE: Initialize an instance of the KepMask class.\n",
      " |      INPUTS: At minimum, requires the following input parameters:\n",
      " |        - midx [index]: Location along the x-axis (R.A. axis) of the midpoint.\n",
      " |        - midy [index]: Location along the y-axis (Dec. axis) of the midpoint.\n",
      " |        - mstar [kg]: Mass of the host star.\n",
      " |        - PA [radian]: Position angle.\n",
      " |        - inc [radian]: Inclination angle.\n",
      " |        - dist [m]: Distance to the source.\n",
      " |        - vsys [m/s]: Systemic velocity of the source.\n",
      " |      OUTPUTS:\n",
      " |        - Initialized instance of the KepMask class.\n",
      " |      NOTES:\n",
      " |        - N/A\n",
      " |  \n",
      " |  extract(self, fitsname, restfreq=None)\n",
      " |      METHOD: extract\n",
      " |      PURPOSE: Load in the data from a .fits file image cube, containing\n",
      " |        imaged channel data.\n",
      " |      INPUTS:\n",
      " |        - fitsname [str filename]: filepath+filename of the .fits image cube.\n",
      " |        - restfreq [(optional) float, Hz]: Rest frequency of molecular line.\n",
      " |            Only necessary if the .fits file's channel units are frequencies\n",
      " |            [Hz] instead of velocities [m/s].\n",
      " |      OUTPUTS:\n",
      " |        - N/A\n",
      " |      NOTES:\n",
      " |        - The .fits file should have 4 dimensions:\n",
      " |          - 0th dimension = Polarization (ASSUMED TO BE SINGLE POLARIZATION, size=1)\n",
      " |          - 1th dimension = Channels\n",
      " |          - 2th dimension = Declination\n",
      " |          - 3th dimension = R.A.\n",
      " |  \n",
      " |  generate(self, whichchans=None, hypfreqs=None, showtests=False, V0_ms=300.0, R0_AU=100.0, q0=0.3, mask_override=None, mask_Rmax=None, beamfactor=3.0, beamcut=0.03)\n",
      " |      METHOD: generate\n",
      " |      PURPOSE: Generate a Keplerian mask for the previously-stored image cube.\n",
      " |      INPUTS:\n",
      " |        - beamcut [float, default=0.03]: Factor that controls beam convolution\n",
      " |            approximation.  Provides cutoff for the normalized approximation.\n",
      " |            See NOTES below.\n",
      " |        - beamfactor [float, default=3.0]: Factor that controls beam\n",
      " |            convolution approximation.  Ensures convolution is more circular.\n",
      " |            See NOTES below.\n",
      " |        - hypfreqs [None OR list of floats [Hz], default=None]: List of\n",
      " |            hyperfine frequencies [Hz] for generating Keplerian masks for\n",
      " |            molecular lines with hyperfine structure.  The main hyperfine\n",
      " |            transition should be first in the list.\n",
      " |            If hypfreqs=None, then no hyperfine masks will be generated.\n",
      " |        - mask_override [2D bool array OR None, default=None]: Regions in\n",
      " |            the channels where Keplerian masks are allowed to take place.\n",
      " |            For instance, if you are looking to extract emission within\n",
      " |            only a certain annulus, then mask_override could be set to a\n",
      " |            2D bool array that highlights only that annulus region.\n",
      " |        - mask_Rmax [float [m] OR None, default=None]: Radial extent of the\n",
      " |            masks in meters.  If None, no such boundary is applied.\n",
      " |        - R0_AU [float [AU], default=100.0]: Characteristic radius (IN AU!)\n",
      " |            for the broadening scheme described by Yen+2016.  See NOTES below.\n",
      " |        - q0 [float, default=0.3]: Power law index for the broadening scheme\n",
      " |            described by Yen+2016.  See NOTES below.\n",
      " |        - showtests [bool, default=False]: If True, will plot the velocity\n",
      " |            fields calculated during the generation of the Keplerian masks.\n",
      " |        - V0_ms [float [m/s], default=300.0]: Prefactor for the broadening\n",
      " |            scheme described by Yen+2016.  See NOTES below.\n",
      " |        - whichchans [None OR list of indices, default=None]: List of indices\n",
      " |            corresponding to the desired channels to have masks.\n",
      " |      OUTPUTS:\n",
      " |        - N/A\n",
      " |      NOTES:\n",
      " |        - We advise that the beamfactor and beamcut values be left at their\n",
      " |            defaults, as they are currently scaled so that a point source would\n",
      " |            be \"smeared\" to the size of the given beam.\n",
      " |        - Note also that the beam convolution is only approximated, via\n",
      " |            a Gaussian filter, and uses a circle of size max([bmin, bmaj]).\n",
      " |            and bmin).\n",
      " |        - We use the velocity broadening scheme of Yen+2016, which looks like:\n",
      " |            Delta_V = 4 * V0*(R/R0)^(-q0)\n",
      " |            This broadening (Delta_V) is added in quadrature to the velocity\n",
      " |            width of the channels.\n",
      " |        - If both mask_override and mask_Rmax are not None, then the value\n",
      " |            of mask_Rmax will be used.\n",
      " |  \n",
      " |  get_parameter(self, param, _inner=False, _keyset=None)\n",
      " |      METHOD: get_parameter\n",
      " |      PURPOSE: Return the value of the given parameter (if it exists).\n",
      " |        If the parameter does not exist, then a helpful error will be thrown\n",
      " |        that lists all of the available parameters.\n",
      " |      INPUTS:\n",
      " |        - param [str]: The name of the desired parameter.\n",
      " |        - _inner [bool]: NOT for the user to use!  This is an internal boolean\n",
      " |            for determining why this function is being called.\n",
      " |        - __keyset [list, None]: NOT for the user to use!  This is an internal\n",
      " |            list to give all parameters needed to run a method.\n",
      " |      OUTPUTS:\n",
      " |        - Value of the desired parameter, if it exists, OR an error message.\n",
      " |      NOTES:\n",
      " |        - N/A\n",
      " |  \n",
      " |  get_product(self, prod)\n",
      " |      METHOD: get_product\n",
      " |      PURPOSE: Return the desired image product (e.g., spectrum or mom0).\n",
      " |      INPUTS:\n",
      " |        - prod [str]: The name of the desired product.\n",
      " |      OUTPUTS:\n",
      " |        - The desired product (if it exists), or a helpful error that lists\n",
      " |            the available types of products.\n",
      " |      NOTES:\n",
      " |        - The available products are:\n",
      " |          - \"masks\": The generated Keplerian masks.\n",
      " |          - \"channels\": The (unmasked) channel map.\n",
      " |          - \"mom0\": The velocity-integrated emission map [flux units / beam * m/s].\n",
      " |          - \"spectrum\": The computed spectrum [flux units].\n",
      " |          - \"intflux\": The velocity-integrated flux [flux units * m/s].\n",
      " |  \n",
      " |  plot_product(self, prod, dosave=False, savename='testing.png', figsize=(8, 8), title='', ncol=7, xlim=[-3.0, 3.0], ylim=[-3.0, 3.0], color='black', cmap=<matplotlib.colors.LinearSegmentedColormap object at 0x7fa8c853dfd0>, vmin=0.0, vmax=None, vrange_kms=None, textsize=14, titlesize=16, linewidth=3.0, linestyle='-', alpha=0.5, beamx=0.85, beamy=0.15)\n",
      " |      METHOD: plot_product\n",
      " |      PURPOSE: Return a plot of the desired image product (e.g., spectrum\n",
      " |        or mom0).\n",
      " |      INPUTS:\n",
      " |        - alpha [float, default=0.5]: Line transparency.  Valid values are from\n",
      " |            0 (transparent) to 1 (opaque).  Used only for spectra.\n",
      " |        - beamx [float, default=0.8]: Relative x-axis location of beam (scaled\n",
      " |            from 0 to 1).  Used only for mom0s and channel maps.\n",
      " |        - beamy [float, default=0.8]: Relative y-axis location of beam (scaled\n",
      " |            from 0 to 1).  Used only for mom0s and channel maps.\n",
      " |        - cmap [<matplotlib colormap>, default=plt.cm.bone_r]: Colormap.  Used\n",
      " |            only for mom0s and channel maps.\n",
      " |        - color [str, default=\"black\"]: Line color.  All matplotlib values\n",
      " |            are valid.  Used only for spectra.\n",
      " |        - dosave [bool, default=False]: If True, will save the figure under\n",
      " |            savename.  If False, will display the figure instead.\n",
      " |        - figsize [tuple, default=(8,8)]: Size of the final figure.\n",
      " |        - linestyle [str, default=\"-\"]: Line style.  All matplotlib values\n",
      " |            are valid.  Used only for spectra.\n",
      " |        - linewidth [float, default=3.0]: Line thickness.  Used only for\n",
      " |            spectra.\n",
      " |        - ncol [int, default=7]: Number of columns.  Used only for channel\n",
      " |            maps.\n",
      " |        - prod [str]: The name of the desired product to plot.\n",
      " |        - savename [str, default=\"testing.png\"]: Name for the saved figure.\n",
      " |            Only used if dosave=True.\n",
      " |        - textsize [int/float, default=14]: Font size for axis-label text.\n",
      " |        - title [str, default=\"\"]: Title of the final figure.\n",
      " |        - titlesize [int/float, default=16]: Font size for title text.\n",
      " |        - vmax [float OR None, default=None]: Max. value for colorbar.\n",
      " |            If None, will use the max. value of emission within xlim,ylim\n",
      " |            range. Used only mom0s and channel maps.\n",
      " |        - vmin [float OR None, default=0]: Min. value for colorbar.  If None,\n",
      " |            will use the min. value of emission within xlim,ylim range. Used\n",
      " |            only mom0s and channel maps.\n",
      " |        - vrange_kms [list [km/s], default=None]: Velocity range of\n",
      " |            channels to plot.  If None, will plot all channels.\n",
      " |        - xlim [list [arcsec], default=[-3.0,3.0]: x-axis bounds of figure.\n",
      " |        - ylim [list [arcsec], default=[-3.0,3.0]: y-axis bounds of figure.\n",
      " |      OUTPUTS:\n",
      " |        - The desired plot (if it exists), or a helpful error that lists\n",
      " |            the available types of plots.  Can be saved or displayed.\n",
      " |      NOTES:\n",
      " |        - The available plots are:\n",
      " |          - \"channels\": The channel map with masks overplotted.\n",
      " |          - \"mom0\": The velocity-integrated emission map.\n",
      " |          - \"spectrum\": The spectrum.\n",
      " |  \n",
      " |  set_parameter(self, param, value)\n",
      " |      METHOD: set_parameter\n",
      " |      PURPOSE: Set the value of the given parameter.\n",
      " |        If the parameter did not previously exist, then it will be created.\n",
      " |        If the parameter DID previously exist, then its previous value will\n",
      " |        be overwritten.\n",
      " |      INPUTS:\n",
      " |        - param [str]: The name of the given parameter.\n",
      " |        - value [anything]: The value of the given parameter.\n",
      " |      OUTPUTS:\n",
      " |        - N/A\n",
      " |      NOTES:\n",
      " |        - N/A\n",
      " |  \n",
      " |  synthesize(self, nchan, ralen, rastart, rawidth, declen, decstart, decwidth, velstart, velwidth, bmaj, bmin, bpa)\n",
      " |      METHOD: synthesize\n",
      " |      PURPOSE: Generate and load in a synthetic image cube.\n",
      " |      INPUTS:\n",
      " |        - nchan [int]: Number of channels in the synthetic image.\n",
      " |        - ralen [int]: Number of points along the RA axis (x-axis).\n",
      " |        - rastart [float, radians]: Starting value for array of RA points.\n",
      " |        - rawidth [float, radians]: Spacing between points in the RA array.\n",
      " |        - declen [int]: Number of points along the DEC axis (y-axis).\n",
      " |        - decstart [float, radians]: Starting value for array of DEC points.\n",
      " |        - decwidth [float, radians]: Spacing between points in the DEC array.\n",
      " |        - velstart [float, m/s]: Starting value for array of velocity points.\n",
      " |        - velwidth [float, m/s]: Spacing between points in the velocity array.\n",
      " |        - bmaj [float, radians]: Length of the full major axis of the beam.\n",
      " |        - bmin [float, radians]: Length of the full minor axis of the beam.\n",
      " |        - bpa [float, radians]: Position angle of the beam.\n",
      " |      OUTPUTS:\n",
      " |        - N/A\n",
      " |      NOTES:\n",
      " |        - N/A\n",
      " |  \n",
      " |  ----------------------------------------------------------------------\n",
      " |  Data descriptors defined here:\n",
      " |  \n",
      " |  __dict__\n",
      " |      dictionary for instance variables (if defined)\n",
      " |  \n",
      " |  __weakref__\n",
      " |      list of weak references to the object (if defined)\n",
      "\n"
     ]
    }
   ],
   "source": [
    "#Print information for this class and all of its methods\n",
    "help(km.KepMask)"
   ]
  },
  {
   "cell_type": "markdown",
   "metadata": {},
   "source": [
    "Wow!  How helpful!  (And note that you can use ***help()*** on any of the methods of the $\\texttt{KepMask}$ class in order to get more helpful printouts.)\n",
    "\n",
    "In order to generate Keplerian masks for a Keplerian-rotating disk, the $\\texttt{KepMask}$ class needs to know a bit about the disk itself.  Disk information can be fed in when you first create an instance of the $\\texttt{KepMask}$ class.  Take a look at the \"INPUTS\" listed under the \"__init__\" method, near the top of the information just printed by the ***help()*** function.  Those inputs are all of the variables, and their units, that are required by $\\texttt{KepMask}$ to generate Keplerian masks.\n",
    "\n",
    "Let's create a class instance of $\\texttt{KepMask}$ specifically for the J1604-2130 protoplanetary disk.  ***NOTE that the $\\texttt{KepMask}$ package assumes inputs are in S.I. units (kg, m/s, m...), unless otherwise indicated by the variable name!***  We can use the $\\texttt{astropy}$ package to do the conversions into S.I. for us."
   ]
  },
  {
   "cell_type": "code",
   "execution_count": 5,
   "metadata": {},
   "outputs": [],
   "source": [
    "#Import constants from astropy\n",
    "import astropy.constants as astconst\n",
    "msun = astconst.M_sun.value #Solar mass [kg]\n",
    "pc0 = astconst.pc.value #Parsec [m]\n",
    "au0 = astconst.au.value #AU [m]\n",
    "\n",
    "#Import pi from numpy\n",
    "import numpy as np\n",
    "pi = np.pi"
   ]
  },
  {
   "cell_type": "code",
   "execution_count": 6,
   "metadata": {},
   "outputs": [],
   "source": [
    "#Declare some values for the disk J1604-2130\n",
    "mstar = 1.1 *msun #[kg]; Stellar mass\n",
    "vsys = 4.6 *1E3 #[m/s]; Systemic velocity\n",
    "dist = 149 *pc0 #[m]; Distance to source\n",
    "PA = (195) *pi/180.0 #[radians]; Position angle\n",
    "inc = (6.2) *pi/180.0 #[radians]; Inclination angle\n",
    "midx = 254 #[index]; Location along x-axis of midpoint\n",
    "midy = 240 #[index]; Location along y-axis of midpoint\n",
    "\n",
    "#Create an instance of KepMask for J1604-2130\n",
    "kmset_j1604 = km.KepMask(mstar=mstar, vsys=vsys, dist=dist, PA=PA, inc=inc, midx=midx, midy=midy)"
   ]
  },
  {
   "cell_type": "markdown",
   "metadata": {},
   "source": [
    "We've successfully stored information for J1604-2130 into this class instance.  We can always double-check the values using the ***get_parameter*** method, which returns the parameters (in their S.I. units):"
   ]
  },
  {
   "cell_type": "code",
   "execution_count": 7,
   "metadata": {},
   "outputs": [
    {
     "name": "stdout",
     "output_type": "stream",
     "text": [
      "2.1872508577678563e+30\n",
      "4600.0\n",
      "0.10821041362364843\n"
     ]
    }
   ],
   "source": [
    "#Print values for some parameters\n",
    "print(kmset_j1604.get_parameter(\"mstar\"))\n",
    "print(kmset_j1604.get_parameter(\"vsys\"))\n",
    "print(kmset_j1604.get_parameter(\"inc\"))"
   ]
  },
  {
   "cell_type": "markdown",
   "metadata": {},
   "source": [
    "We can also use ***get_parameter()*** to see the names of the disk information we have stored (and thus, if we're missing any of the INPUTS printed earlier by ***help()***).  We just need to pass in an invalid string, which will generate a helpful error, like so:"
   ]
  },
  {
   "cell_type": "code",
   "execution_count": 8,
   "metadata": {},
   "outputs": [],
   "source": [
    "#Uncomment the line below to get a helpful error\n",
    "#kmset_j1604.get_parameter(\"helpmeouthere\")"
   ]
  },
  {
   "cell_type": "markdown",
   "metadata": {},
   "source": [
    "We can use ***set_parameter()*** to change the value of a parameter, like so:"
   ]
  },
  {
   "cell_type": "code",
   "execution_count": 9,
   "metadata": {},
   "outputs": [
    {
     "name": "stdout",
     "output_type": "stream",
     "text": [
      "Distance before using set_parameter():\n",
      "4.5976595964221373e+18\n",
      "Distance after set_parameter():\n",
      "inf\n"
     ]
    }
   ],
   "source": [
    "#Print the current value of the distance\n",
    "print(\"Distance before using set_parameter():\")\n",
    "print(kmset_j1604.get_parameter(\"dist\"))\n",
    "\n",
    "#Change the value of the distance\n",
    "kmset_j1604.set_parameter(\"dist\", np.inf*pc0)\n",
    "\n",
    "#Now print the distance value again\n",
    "print(\"Distance after set_parameter():\")\n",
    "print(kmset_j1604.get_parameter(\"dist\"))"
   ]
  },
  {
   "cell_type": "markdown",
   "metadata": {},
   "source": [
    "...But J1604-2130 isn't actually that far away, so let's change the distance back to the way it was:"
   ]
  },
  {
   "cell_type": "code",
   "execution_count": 10,
   "metadata": {},
   "outputs": [
    {
     "name": "stdout",
     "output_type": "stream",
     "text": [
      "The corrected distance value:\n",
      "4.5976595964221373e+18\n"
     ]
    }
   ],
   "source": [
    "#Return the distance to a more righteous value\n",
    "kmset_j1604.set_parameter(\"dist\", dist)\n",
    "print(\"The corrected distance value:\")\n",
    "print(kmset_j1604.get_parameter(\"dist\"))"
   ]
  },
  {
   "cell_type": "markdown",
   "metadata": {},
   "source": [
    "### Generating Keplerian masks for an (ALMA) image cube"
   ]
  },
  {
   "cell_type": "markdown",
   "metadata": {},
   "source": [
    "Now that we've created a class instance for J1604-2130, let's load in the molecular line data.  We can do this via the ***extract()*** method, which will feed in the H$_2$CO 3$_{03}$-2$_{02}$ image cube (stored in the .fits file mentioned previously) observed toward J1604-2130:"
   ]
  },
  {
   "cell_type": "code",
   "execution_count": 11,
   "metadata": {
    "scrolled": true
   },
   "outputs": [
    {
     "ename": "TypeError",
     "evalue": "extract_fits() missing 1 required positional argument: 'filetype'",
     "output_type": "error",
     "traceback": [
      "\u001b[0;31m---------------------------------------------------------------------------\u001b[0m",
      "\u001b[0;31mTypeError\u001b[0m                                 Traceback (most recent call last)",
      "\u001b[0;32m<ipython-input-11-a0f02c0be71f>\u001b[0m in \u001b[0;36m<module>\u001b[0;34m\u001b[0m\n\u001b[1;32m      1\u001b[0m \u001b[0;31m#Load in the molecular line data\u001b[0m\u001b[0;34m\u001b[0m\u001b[0;34m\u001b[0m\u001b[0;34m\u001b[0m\u001b[0m\n\u001b[1;32m      2\u001b[0m \u001b[0mfitsname\u001b[0m \u001b[0;34m=\u001b[0m \u001b[0;34m\"J1604-2130_H2CO_303-202.fits\"\u001b[0m \u001b[0;31m#This should point to the location+filename of the image cube .fits file\u001b[0m\u001b[0;34m\u001b[0m\u001b[0;34m\u001b[0m\u001b[0m\n\u001b[0;32m----> 3\u001b[0;31m \u001b[0mkmset_j1604\u001b[0m\u001b[0;34m.\u001b[0m\u001b[0mextract\u001b[0m\u001b[0;34m(\u001b[0m\u001b[0mfitsname\u001b[0m\u001b[0;34m=\u001b[0m\u001b[0mfitsname\u001b[0m\u001b[0;34m)\u001b[0m\u001b[0;34m\u001b[0m\u001b[0;34m\u001b[0m\u001b[0m\n\u001b[0m",
      "\u001b[0;32m~/Documents/STScI_Fellowship/Research/Modules/repo_kepmask/kepmask/pykepmask/kepmask.py\u001b[0m in \u001b[0;36mextract\u001b[0;34m(self, fitsname, restfreq)\u001b[0m\n\u001b[1;32m    189\u001b[0m         \"\"\"\n\u001b[1;32m    190\u001b[0m         \u001b[0;31m#Call on a utils method to extract the .fits information.\u001b[0m\u001b[0;34m\u001b[0m\u001b[0;34m\u001b[0m\u001b[0;34m\u001b[0m\u001b[0m\n\u001b[0;32m--> 191\u001b[0;31m         self._imdict = astmod.extract_fits(\n\u001b[0m\u001b[1;32m    192\u001b[0m                                 filename=fitsname, restfreq=restfreq)\n\u001b[1;32m    193\u001b[0m     \u001b[0;31m#\u001b[0m\u001b[0;34m\u001b[0m\u001b[0;34m\u001b[0m\u001b[0;34m\u001b[0m\u001b[0m\n",
      "\u001b[0;31mTypeError\u001b[0m: extract_fits() missing 1 required positional argument: 'filetype'"
     ]
    }
   ],
   "source": [
    "#Load in the molecular line data\n",
    "fitsname = \"J1604-2130_H2CO_303-202.fits\" #This should point to the location+filename of the image cube .fits file\n",
    "kmset_j1604.extract(fitsname=fitsname)"
   ]
  },
  {
   "cell_type": "markdown",
   "metadata": {},
   "source": [
    "Once the molecular data is loaded, you can use the ***get_parameter()*** method to print any imaging characteristics (in S.I. units), such as the number of channels.  And, as we did before, you can pass in an invalid string to get the full list of parameters that you can access."
   ]
  },
  {
   "cell_type": "code",
   "execution_count": null,
   "metadata": {},
   "outputs": [],
   "source": [
    "#Print the number of channels\n",
    "print(kmset_j1604.get_parameter(\"nchan\"))\n",
    "\n",
    "#Uncomment the line below to get a new helpful error\n",
    "#kmset_j1604.get_parameter(\"helpmeoutagain\")"
   ]
  },
  {
   "cell_type": "markdown",
   "metadata": {},
   "source": [
    "Next, we can use this instance to generate Keplerian masks via the ***generate()*** method.  We'll set the mask boundary to be 350AU.\n",
    "\n",
    "A byproduct of the circular beam convolution approximation within the Keplerian masks is that you get \"lingering\" circular masks out to channels where you'd expect very little, very central, likely unresolved emission.  So we'll just *not* include those far-ou channels by specifying channels 15-30, around where we actually resolve emission.\n",
    "\n",
    "Note also that the Keplerian masks use the parametric velocity broadening scheme from [Yen+2016](https://ui.adsabs.harvard.edu/abs/2016ApJ...832..204Y/abstract) - i.e., $\\Delta V \\approx 4V_0 (R/R_0)^{-q_0}$.  Since J1604-2130 is a pretty face-on disk, we'll use a smaller prefactor ($V_0$) than the \"typical\" values.\n",
    "\n",
    "(You may see some zero-division warnings when you run the cell below.  Just ignore those; they're taken care of within the code.)"
   ]
  },
  {
   "cell_type": "code",
   "execution_count": null,
   "metadata": {},
   "outputs": [],
   "source": [
    "#Set the radial boundary of the masks\n",
    "Rmax = 350 *au0 #[m]\n",
    "\n",
    "#Set the channel indices that will actually have masks.\n",
    "whichchans = np.arange(16, 30+1, 1) #Set to None to mask all channels\n",
    "\n",
    "#Set the velocity broadening parameters\n",
    "V0_ms = 0.15 *1E3 #Prefactor [m/s]\n",
    "R0_AU = 100.0 #Characteristic radius [AU] - note that this is the sole parameter not in S.I. units!\n",
    "q0 = 0.2 #Power law - note that this value should be positive (negation is already within the code)\n",
    "\n",
    "#Generate the Keplerian masks\n",
    "kmset_j1604.generate(mask_Rmax=Rmax, whichchans=whichchans, V0_ms=V0_ms, R0_AU=R0_AU, q0=q0)"
   ]
  },
  {
   "cell_type": "markdown",
   "metadata": {},
   "source": [
    "The masks are now stored within the class instance.\n",
    "\n",
    "Note that ***extract()*** and ***generate()*** are two separate steps, so that you can use the same masks for different molecular lines.\n",
    "\n",
    "For example, if you'd like to apply the same masks to a different molecular line (e.g., C$^{18}$O observed toward J1604-2130), you only need to run ***extract()*** again with the new .fits file name, and then run ***generate()*** again.  Just to be clear, this means that rerunning ***extract()*** for a new .fits file overrides the information previously stored (e.g., H$_2$CO 3$_{03}$-2$_{02}$ in this example would be overridden by C$^{18}$O).\n",
    "\n",
    "Of course, you could also just create an entirely new class instance for each disk+molecular line combination.  Up to you!"
   ]
  },
  {
   "cell_type": "markdown",
   "metadata": {},
   "source": [
    "### Accessing and plotting masked image products (e.g., mom0s and spectra)"
   ]
  },
  {
   "cell_type": "markdown",
   "metadata": {},
   "source": [
    "Now that you've generated the Keplerian masks, you can access them via the ***get_product()*** method.  For example, let's extract the generated masks.  Under the hood, the masks are simple $\\texttt{numpy}$ 3D boolean arrays (dimensions are 0=channel, 1=DEC, and 2=RA).  So we can also save them to a $\\texttt{numpy}$ data file and reload them to another variable later on."
   ]
  },
  {
   "cell_type": "code",
   "execution_count": null,
   "metadata": {},
   "outputs": [],
   "source": [
    "#Extract the masks\n",
    "masks = kmset_j1604.get_product(\"masks\") #Now the masks variable contains the masks!\n",
    "\n",
    "#Save the masks\n",
    "maskname = \"masks_j1604_H2CO_303-202.npy\" #Name for the saved mask file\n",
    "np.save(maskname, masks) #Save the masks under the given filename\n",
    "\n",
    "#You can load the masks later to a variable using the following command\n",
    "loadmasks = np.load(maskname) #Load the saved masks\n",
    "print(loadmasks.shape) #Print the shape of the data\n",
    "print(loadmasks.max()) #Print the maximum value (should be True)\n",
    "print(loadmasks.min()) #Print the minimum value (should be False)"
   ]
  },
  {
   "cell_type": "markdown",
   "metadata": {},
   "source": [
    "Using the same method, we can also extract the channels of data themselves, as well as the computed velocity-integrated emission map (aka, the 'mom0'), the velocity-integrated flux, and the spectrum.  We can use the same $\\texttt{numpy}$ methods from above to save/reload the channel map, spectrum, and mom0 as we see fit.\n",
    "\n",
    "Note that the units are:\n",
    "\n",
    "1. Channel map = flux units / beam\n",
    "1. Spectrum = flux units\n",
    "1. Velocity-integrated flux = flux units $\\times$ m/s\n",
    "1. mom0 = flux units / beam $\\times$ m/s\n",
    "\n",
    "The flux units are *not* changed from whatever the units are in the image cube .fits file (e.g., Janskies)."
   ]
  },
  {
   "cell_type": "code",
   "execution_count": null,
   "metadata": {},
   "outputs": [],
   "source": [
    "#Extract the channels\n",
    "channels = kmset_j1604.get_product(\"channels\") #In units of [flux / beam]\n",
    "\n",
    "#Extract the mom0\n",
    "mom0 = kmset_j1604.get_product(\"mom0\") #In units of [flux / beam * m/s]\n",
    "\n",
    "#Extract the spectrum\n",
    "spectrum = kmset_j1604.get_product(\"spectrum\") #In units of [flux]\n",
    "\n",
    "#Extract the velocity-integrated flux\n",
    "intflux = kmset_j1604.get_product(\"intflux\") #In units of [flux * m/s]"
   ]
  },
  {
   "cell_type": "markdown",
   "metadata": {},
   "source": [
    "Finally, we can plot the channel map, mom0, and spectrum using the ***plot_product()*** method, like so (which assume that the base flux unit is Janskies):"
   ]
  },
  {
   "cell_type": "code",
   "execution_count": null,
   "metadata": {},
   "outputs": [],
   "source": [
    "#Set the velocity range of channels to plot (in [km/s])\n",
    "vrange_kms = [2.2, 6.8]\n",
    "\n",
    "#Plot the channels\n",
    "kmset_j1604.plot_product(\"channels\", vrange_kms=vrange_kms, ncol=5)"
   ]
  },
  {
   "cell_type": "code",
   "execution_count": null,
   "metadata": {},
   "outputs": [],
   "source": [
    "#Plot the mom0\n",
    "kmset_j1604.plot_product(\"mom0\")"
   ]
  },
  {
   "cell_type": "code",
   "execution_count": null,
   "metadata": {},
   "outputs": [],
   "source": [
    "#Plot the spectrum\n",
    "kmset_j1604.plot_product(\"spectrum\", ylim=[-20, 1400])"
   ]
  },
  {
   "cell_type": "markdown",
   "metadata": {},
   "source": [
    "Note that these are *simple* plots, just meant to show you what the data looks like.  They are 'somewhat' customizable (in a user-friendly way).  Some of the common $\\texttt{matplotlib.pyplot}$ parameters (e.g., linewidth, color, and cmap) can be passed into ***plot_product()*** to spice up these simple plots a bit more.  As always, you can use ***help()*** to get a list of all parameters that you can use:"
   ]
  },
  {
   "cell_type": "code",
   "execution_count": null,
   "metadata": {},
   "outputs": [],
   "source": [
    "help(kmset_j1604.plot_product)"
   ]
  },
  {
   "cell_type": "markdown",
   "metadata": {},
   "source": [
    "And if you ever forget the exact keywords you need to access/plot these products, just pass in an invalid string to ***get_product()*** and ***plot_product()*** as applicable.  You'll get a helpful error message, which will tell you the names of all valid products."
   ]
  },
  {
   "cell_type": "code",
   "execution_count": null,
   "metadata": {},
   "outputs": [],
   "source": [
    "#Uncomment the line below to get another helpful error\n",
    "#kmset_j1604.get_product(\"morehelpplease\")\n",
    "\n",
    "#Uncomment the line below to get yet another helpful error\n",
    "#kmset_j1604.plot_product(\"helpmeheretoo\")"
   ]
  },
  {
   "cell_type": "markdown",
   "metadata": {},
   "source": [
    "### Masks with hyperfine structure"
   ]
  },
  {
   "cell_type": "markdown",
   "metadata": {},
   "source": [
    "We can also generate Keplerian masks for molecular lines with hyperfine structure - e.g., HCN 3-2.  So let's put everything we've learned so far together.  Our goal is to generate the final masked products for HCN 3-2 observed toward J1100-7619.  To incorporate the hyperfine structure, we simply use the hypfreqs parameter in the ***generate()*** method.  That's the only procedural difference from what we did before."
   ]
  },
  {
   "cell_type": "code",
   "execution_count": null,
   "metadata": {},
   "outputs": [],
   "source": [
    "#Import the kepmask module as km\n",
    "from pykepmask import kepmask as km\n",
    "#Import constants from astropy\n",
    "import astropy.constants as astconst\n",
    "msun = astconst.M_sun.value #Solar mass [kg]\n",
    "pc0 = astconst.pc.value #Parsec [m]\n",
    "au0 = astconst.au.value #AU [m]\n",
    "#Import pi from numpy\n",
    "import numpy as np\n",
    "pi = np.pi\n",
    "\n",
    "#Declare some values for the disk J1100-7619\n",
    "mstar = 0.23 *msun #[kg]; Stellar mass\n",
    "vsys = 4.75 *1E3 #[m/s]; Systemic velocity\n",
    "dist = 160 *pc0 #[m]; Distance to source\n",
    "PA = (109) *pi/180.0 #[radians]; Position angle\n",
    "inc = (21) *pi/180.0 #[radians]; Inclination angle\n",
    "midx = 200 #[index]; Location along x-axis of midpoint\n",
    "midy = 200 #[index]; Location along y-axis of midpoint\n",
    "\n",
    "#Create an instance of KepMask for J1100-7619\n",
    "kmset_j1100 = km.KepMask(mstar=mstar, vsys=vsys, dist=dist, PA=PA, inc=inc, midx=midx, midy=midy)\n",
    "\n",
    "#Load in the molecular line data\n",
    "fitsname = \"J1100-7619_HCN32.fits\" #This should point to the location+filename of the image cube .fits file\n",
    "kmset_j1100.extract(fitsname=fitsname)\n",
    "\n",
    "#Set the radial boundary of the masks\n",
    "Rmax = 300 *au0 #[m]\n",
    "\n",
    "#Set the channel indices that will actually have masks.\n",
    "whichchans = np.arange(40, 90+1, 1) #Set to None to mask all channels\n",
    "\n",
    "#Set the velocity broadening parameters\n",
    "V0_ms = 0.22 *1E3 #Prefactor [m/s]\n",
    "R0_AU = 100.0 #Characteristic radius [AU] - note that this is the sole parameter not in S.I. units!\n",
    "q0 = 0.3 #Power law - note that this value should be positive (negation is already within the code)\n",
    "\n",
    "\n",
    "\n",
    "###NOTE THE USE OF THE hypfreqs PARAMETER HERE!\n",
    "#List the frequencies (in [Hz]) for the hyperfine components you want to include.\n",
    "#NOTE: The main hyperfine frequency should be listed *first*.\n",
    "hypfreqs = np.array([265.88643390, 265.88618860, 265.88649990, 265.88489120, 265.88852210]) *1E9 #[Hz]; 5 major components\n",
    "#Generate the Keplerian masks\n",
    "kmset_j1100.generate(mask_Rmax=Rmax, hypfreqs=hypfreqs, whichchans=whichchans, V0_ms=V0_ms, R0_AU=R0_AU, q0=q0)\n",
    "###"
   ]
  },
  {
   "cell_type": "code",
   "execution_count": null,
   "metadata": {},
   "outputs": [],
   "source": [
    "#Print the velocity-integrated flux\n",
    "intflux = kmset_j1100.get_product(\"intflux\")\n",
    "print(\"The velocity-integrated flux is {0:.2f} mJy km/s.\".format(intflux*1E3/1.0E3))"
   ]
  },
  {
   "cell_type": "code",
   "execution_count": null,
   "metadata": {},
   "outputs": [],
   "source": [
    "#Set the velocity range of channels to plot (in [km/s])\n",
    "vrange_kms = [-2.0, 11.8]\n",
    "\n",
    "#Plot the channels\n",
    "kmset_j1100.plot_product(\"channels\", vrange_kms=vrange_kms, ncol=10)"
   ]
  },
  {
   "cell_type": "code",
   "execution_count": null,
   "metadata": {},
   "outputs": [],
   "source": [
    "#Plot the mom0\n",
    "kmset_j1100.plot_product(\"mom0\", xlim=[-2, 2], ylim=[-2, 2], beamx=0.95, beamy=0.05)"
   ]
  },
  {
   "cell_type": "code",
   "execution_count": null,
   "metadata": {},
   "outputs": [],
   "source": [
    "#Plot the spectrum\n",
    "kmset_j1100.plot_product(\"spectrum\", xlim=[-5, 5], ylim=[-20, 1200])"
   ]
  },
  {
   "cell_type": "markdown",
   "metadata": {},
   "source": [
    "### Generating Keplerian masks for a synthetic image cube"
   ]
  },
  {
   "cell_type": "markdown",
   "metadata": {},
   "source": [
    "We can also create Keplerian masks for a completely synthetic image cube, by passing in a set of disk and image parameters.  We can do this via the ***synthesize()*** method.  Let's start by making some fake disk and image data:"
   ]
  },
  {
   "cell_type": "code",
   "execution_count": null,
   "metadata": {},
   "outputs": [],
   "source": [
    "#Set some synthetic image parameters\n",
    "nchan = 55 #Number of channels in synthetic image\n",
    "RAlen = 200 #X-axis length of synthetic image\n",
    "RAstart = 15 *pi/180 #[rad]; Start of RA array\n",
    "RAwidth = (0.1/3600) *pi/180 #[rad]; Spacing of RA array\n",
    "DEClen = 100 #Y-axis length of synthetic image\n",
    "DECstart = 10 *pi/180 #[rad]; Start of RA array\n",
    "DECwidth = (0.05/3600) *pi/180 #[rad]; Spacing of DEC array\n",
    "velstart = 2.5 *1E3 #[m/s]; Start of velocity array\n",
    "velwidth = 0.1 *1E3 #[m/s]; Spacing of the velocity array\n",
    "bmaj = (0.50/3600) *pi/180 #[rad]; Full major axis of beam\n",
    "bmin = (0.35/3600) *pi/180 #[rad]; Full minor axis of beam\n",
    "bpa = (60) *pi/180 #[rad]; Position angle of beam\n",
    "\n",
    "#Set some synthetic disk parameters\n",
    "mstar = 1 *msun #[kg]; Stellar mass\n",
    "vsys = 5.5 *1E3 #[m/s]; Systemic velocity\n",
    "dist = 100 *pc0 #[m]; Distance to source\n",
    "PA = (100) *pi/180.0 #[radians]; Position angle\n",
    "inc = (30) *pi/180.0 #[radians]; Inclination angle\n",
    "midx = RAlen // 2 #[index]; Location along x-axis of midpoint\n",
    "midy = DEClen // 2 #[index]; Location along y-axis of midpoint\n",
    "\n",
    "#Set some synthetic mask parameters\n",
    "Rmax = 150 *au0 #[m]\n",
    "whichchans = np.arange(15, 40+1, 1) #Set to None to mask all channels\n",
    "V0_ms = 0.15 *1E3 #Prefactor [m/s]\n",
    "R0_AU = 50.0 #Characteristic radius [AU] - note that this is the sole parameter not in S.I. units!\n",
    "q0 = 0.15 #Power law - note that this value should be positive (negation is already within the code)"
   ]
  },
  {
   "cell_type": "markdown",
   "metadata": {},
   "source": [
    "Now let's create a Keplerian mask for the synthetic image:"
   ]
  },
  {
   "cell_type": "code",
   "execution_count": null,
   "metadata": {},
   "outputs": [],
   "source": [
    "#Create an instance of KepMask for a generic disk around a solar mass star\n",
    "kmset_synth = km.KepMask(mstar=mstar, vsys=vsys, dist=dist,\n",
    "                            PA=PA, inc=inc, midx=midx, midy=midy)\n",
    "\n",
    "#Feed in the synthetic image details\n",
    "kmset_synth.synthesize(nchan=nchan, ralen=RAlen, rastart=RAstart, rawidth=RAwidth,\n",
    "                       declen=DEClen, decstart=DECstart, decwidth=DECwidth,\n",
    "                       velstart=velstart, velwidth=velwidth,\n",
    "                       bmaj=bmaj, bmin=bmin, bpa=bpa)\n",
    "\n",
    "#Generate the Keplerian masks in the synthetic image\n",
    "kmset_synth.generate(mask_Rmax=Rmax, whichchans=whichchans, V0_ms=V0_ms, R0_AU=R0_AU, q0=q0)"
   ]
  },
  {
   "cell_type": "markdown",
   "metadata": {},
   "source": [
    "And we can plot the Keplerian mask within the synthetic image using the same channel map plotter as before:"
   ]
  },
  {
   "cell_type": "code",
   "execution_count": null,
   "metadata": {},
   "outputs": [],
   "source": [
    "#Plot the masks in the synthetic channels\n",
    "vrange_kms = [-4, 10]\n",
    "kmset_synth.plot_product(\"channels\", vrange_kms=vrange_kms, ncol=10)"
   ]
  },
  {
   "cell_type": "markdown",
   "metadata": {},
   "source": [
    "Finally, we can save the masks using the same procedure as before:"
   ]
  },
  {
   "cell_type": "code",
   "execution_count": null,
   "metadata": {},
   "outputs": [],
   "source": [
    "#Extract the masks\n",
    "masks = kmset_synth.get_product(\"masks\") #Fetch the masks into a variable\n",
    "\n",
    "#Save the masks\n",
    "maskname = \"masks_synth.npy\" #Name for the saved mask file\n",
    "np.save(maskname, masks) #Save the masks under the given filename"
   ]
  },
  {
   "cell_type": "markdown",
   "metadata": {},
   "source": [
    "And that's all she wrote, folks!\n",
    "\n",
    "If you have any questions/concerns with pykepmask, suggestions for improvements/new features, and/or any issues that you've found, ***please*** do let us know on [the GitHub page](https://github.com/jpegues/kepmask)!"
   ]
  },
  {
   "cell_type": "code",
   "execution_count": null,
   "metadata": {},
   "outputs": [],
   "source": [
    "print(\"This tutorial has completed successfully.\")"
   ]
  }
 ],
 "metadata": {
  "kernelspec": {
   "display_name": "Python 3",
   "language": "python",
   "name": "python3"
  },
  "language_info": {
   "codemirror_mode": {
    "name": "ipython",
    "version": 3
   },
   "file_extension": ".py",
   "mimetype": "text/x-python",
   "name": "python",
   "nbconvert_exporter": "python",
   "pygments_lexer": "ipython3",
   "version": "3.8.8"
  }
 },
 "nbformat": 4,
 "nbformat_minor": 2
}
