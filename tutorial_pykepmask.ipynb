{
 "cells": [
  {
   "cell_type": "markdown",
   "metadata": {},
   "source": [
    "# A Tutorial of the $\\texttt{pykepmask}$ Package"
   ]
  },
  {
   "cell_type": "markdown",
   "metadata": {},
   "source": [
    "## Overview\n",
    "\n",
    "Welcome to the interactive tutorial of the $\\texttt{pykepmask}$ package!\n",
    "\n",
    "$\\texttt{pykepmask}$ can be used to generate Keplerian masks.  These masks are useful for extracting molecular line emission (e.g., C$^{18}$O emission) in disks undergoing Keplerian rotation around host stars.  Protoplanetary disks are a great example of such disks (e.g., the infamous disk TW Hya), and are what this package was originally designed for.\n",
    "\n",
    "Let's go ahead and get started!"
   ]
  },
  {
   "cell_type": "markdown",
   "metadata": {},
   "source": [
    "## Outline\n",
    "\n",
    "Here's everything that we'll be covering in this tutorial:\n",
    "1. Package Installation\n",
    "1. Package Use: the KepMask class\n",
    "    1. Loading in and accessing disk parameters\n",
    "    1. Generating Keplerian masks for an (ALMA) image cube\n",
    "    1. Accessing and plotting masked image products (e.g., mom0s and spectra)\n",
    "    1. Masks with hyperfine structure\n"
   ]
  },
  {
   "cell_type": "markdown",
   "metadata": {},
   "source": [
    "## Package Installation"
   ]
  },
  {
   "cell_type": "markdown",
   "metadata": {},
   "source": [
    "The full package can be found in the *pykepmask* folder on the GitHub page: (https://github.com/jpegues/kepmask).  Download the *pykepmask* folder somewhere are your computer.\n",
    "\n",
    "Since *pykepmask* isn't an official Python package (at least, not at the moment), it can't be installed via the fancy Python **pip-install** procedure.  So you will have to add the location of the *pykepmask* folder to your Python PATH.  There are different ways to do this, but here we'll use the Python $\\texttt{sys}$ package to do so:"
   ]
  },
  {
   "cell_type": "code",
   "execution_count": null,
   "metadata": {},
   "outputs": [],
   "source": [
    "#Import the sys package\n",
    "import sys\n",
    "\n",
    "#Add the location of the pykepmask folder to the Python PATH\n",
    "filepath = \"/usr/path/to/folder\" #Path to pykepmask folder; you should change this to point to your downloaded pykepmask folder\n",
    "sys.path.insert(1, filepath)\n",
    "\n",
    "#Import fits package (this is used in an example later)\n",
    "import astropy.io.fits as fitter"
   ]
  },
  {
   "cell_type": "markdown",
   "metadata": {},
   "source": [
    "Now, we can import the $\\texttt{pykepmask}$ package:"
   ]
  },
  {
   "cell_type": "code",
   "execution_count": null,
   "metadata": {},
   "outputs": [],
   "source": [
    "import pykepmask"
   ]
  },
  {
   "cell_type": "markdown",
   "metadata": {},
   "source": [
    "If this gives an error, check that you set the value for the variable ***filepath*** correctly in the above code segment.  The file path must be an absolute path, not a relative path - i.e., something like \"../folder\" will not work.  Also, make sure that the slashes are facing the correct way (e.g., Windows machines might use \"\\path\\to\\folder\" instead)."
   ]
  },
  {
   "cell_type": "markdown",
   "metadata": {},
   "source": [
    "## Package Use: the KepMask class"
   ]
  },
  {
   "cell_type": "markdown",
   "metadata": {},
   "source": [
    "A quick note for you, as a user:\n",
    "\n",
    "The sparkling new $\\texttt{pykepmask}$ package is essentially a user-friendly wrapper for the much-less-user-friendly previous iteration of this package (which was basically just a couple of scripts).  As a user, **you only need to interact with the $\\texttt{KepMask}$ class**.  Poke around at the other stuff in the *pykepmask* folder at your own risk (but we don't advise doing so)."
   ]
  },
  {
   "cell_type": "markdown",
   "metadata": {},
   "source": [
    "With that note out of the way - let's explore the $\\texttt{KepMask}$ class!  We're going to use $\\texttt{KepMask}$ to generate Keplerian masks for the data .fits files included with this tutorial (available on [the GitHub page](https://github.com/jpegues/kepmask))."
   ]
  },
  {
   "cell_type": "markdown",
   "metadata": {},
   "source": [
    "### The data files\n"
   ]
  },
  {
   "cell_type": "markdown",
   "metadata": {},
   "source": [
    "**This package is specifically designed for ALMA data, and assumes you've already reduced+imaged+extracted .fits file(s) containing the image cube(s) for your molecular line observation(s) toward some Keplerian disk(s).**  ALMA stands for the Atacama Large Millimeter/submillimeter Array, located in Chile.\n",
    "\n",
    "There are two data files included with this tutorial:\n",
    "1. J1604-2130_H2CO_303-202.fits\n",
    "1. J1100-7619_HCN32.fits\n",
    "\n",
    "The first data file contains formaldehyde (H$_2$CO; transition=3$_{03}$-2$_{02}$) observed toward the protoplanetary disk J1604-2130.  This data was observed during ALMA Project 2015.1.00964.S and is available on the ALMA archive.  The data was reduced/presented/used in Pegues et al. (accepted).\n",
    "\n",
    "The second data file contains hydrogen cyanide (HCN; transition=3-2), which has *interesting* hyperfine structure.  This molecular line was observed toward the protoplanetary disk J1100-7619.  The data was observed during ALMA Project 2017.1.01107.S and is also available on the ALMA archive.  The data was reduced/presented/used in Pegues et al. (in prep)."
   ]
  },
  {
   "cell_type": "markdown",
   "metadata": {},
   "source": [
    "### Loading in and accessing disk parameters"
   ]
  },
  {
   "cell_type": "markdown",
   "metadata": {},
   "source": [
    "The $\\texttt{KepMask}$ class is in the $\\texttt{kepmask}$ module of the $\\texttt{pykepmask}$ package.  Let's go ahead and import the $\\texttt{kepmask}$ module under the nickname ***km***:"
   ]
  },
  {
   "cell_type": "code",
   "execution_count": null,
   "metadata": {},
   "outputs": [],
   "source": [
    "#Import the kepmask module as km\n",
    "from pykepmask import kepmask as km"
   ]
  },
  {
   "cell_type": "markdown",
   "metadata": {},
   "source": [
    "An easy way to see what's in the $\\texttt{KepMask}$ class is via the Python built-in ***help()*** function:"
   ]
  },
  {
   "cell_type": "code",
   "execution_count": null,
   "metadata": {},
   "outputs": [],
   "source": [
    "#Print information for this class and all of its methods\n",
    "help(km.KepMask)"
   ]
  },
  {
   "cell_type": "markdown",
   "metadata": {},
   "source": [
    "Wow!  How helpful!  (And note that you can use ***help()*** on any of the methods of the $\\texttt{KepMask}$ class in order to get more helpful printouts.)\n",
    "\n",
    "In order to generate Keplerian masks for a Keplerian-rotating disk, the $\\texttt{KepMask}$ class needs to know a bit about the disk itself.  Disk information can be fed in when you first create an instance of the $\\texttt{KepMask}$ class.  Take a look at the \"INPUTS\" listed under the \"__init__\" method, near the top of the information just printed by the ***help()*** function.  Those inputs are all of the variables, and their units, that are required by $\\texttt{KepMask}$ to generate Keplerian masks.\n",
    "\n",
    "Let's create a class instance of $\\texttt{KepMask}$ specifically for the J1604-2130 protoplanetary disk.  ***NOTE that the $\\texttt{KepMask}$ package assumes inputs are in S.I. units (kg, m/s, m...), unless otherwise indicated by the variable name!***  We can use the $\\texttt{astropy}$ package to do the conversions into S.I. for us."
   ]
  },
  {
   "cell_type": "code",
   "execution_count": null,
   "metadata": {},
   "outputs": [],
   "source": [
    "#Import constants from astropy\n",
    "import astropy.constants as astconst\n",
    "msun = astconst.M_sun.value #Solar mass [kg]\n",
    "pc0 = astconst.pc.value #Parsec [m]\n",
    "au0 = astconst.au.value #AU [m]\n",
    "\n",
    "#Import pi from numpy\n",
    "import numpy as np\n",
    "pi = np.pi"
   ]
  },
  {
   "cell_type": "code",
   "execution_count": null,
   "metadata": {},
   "outputs": [],
   "source": [
    "#Declare some values for the disk J1604-2130\n",
    "mstar = 1.1 *msun #[kg]; Stellar mass\n",
    "vsys = 4.6 *1E3 #[m/s]; Systemic velocity\n",
    "dist = 149 *pc0 #[m]; Distance to source\n",
    "PA = (195) *pi/180.0 #[radians]; Position angle\n",
    "inc = (6.2) *pi/180.0 #[radians]; Inclination angle\n",
    "midx = 254 #[index]; Location along x-axis of midpoint\n",
    "midy = 240 #[index]; Location along y-axis of midpoint\n",
    "\n",
    "#Create an instance of KepMask for J1604-2130\n",
    "kmset_j1604 = km.KepMask(mstar=mstar, vsys=vsys, dist=dist, PA=PA, inc=inc, midx=midx, midy=midy)"
   ]
  },
  {
   "cell_type": "markdown",
   "metadata": {},
   "source": [
    "We've successfully stored information for J1604-2130 into this class instance.  We can always double-check the values using the ***get_parameter*** method, which returns the parameters (in their S.I. units):"
   ]
  },
  {
   "cell_type": "code",
   "execution_count": null,
   "metadata": {},
   "outputs": [],
   "source": [
    "#Print values for some parameters\n",
    "print(kmset_j1604.get_parameter(\"mstar\"))\n",
    "print(kmset_j1604.get_parameter(\"vsys\"))\n",
    "print(kmset_j1604.get_parameter(\"inc\"))"
   ]
  },
  {
   "cell_type": "markdown",
   "metadata": {},
   "source": [
    "We can also use ***get_parameter()*** to see the names of the disk information we have stored (and thus, if we're missing any of the INPUTS printed earlier by ***help()***).  We just need to pass in an invalid string, which will generate a helpful error, like so:"
   ]
  },
  {
   "cell_type": "code",
   "execution_count": null,
   "metadata": {},
   "outputs": [],
   "source": [
    "#Uncomment the line below to get a helpful error\n",
    "#kmset_j1604.get_parameter(\"helpmeouthere\")"
   ]
  },
  {
   "cell_type": "markdown",
   "metadata": {},
   "source": [
    "We can use ***set_parameter()*** to change the value of a parameter, like so:"
   ]
  },
  {
   "cell_type": "code",
   "execution_count": null,
   "metadata": {},
   "outputs": [],
   "source": [
    "#Print the current value of the distance\n",
    "print(\"Distance before using set_parameter():\")\n",
    "print(kmset_j1604.get_parameter(\"dist\"))\n",
    "\n",
    "#Change the value of the distance\n",
    "kmset_j1604.set_parameter(\"dist\", np.inf*pc0)\n",
    "\n",
    "#Now print the distance value again\n",
    "print(\"Distance after set_parameter():\")\n",
    "print(kmset_j1604.get_parameter(\"dist\"))"
   ]
  },
  {
   "cell_type": "markdown",
   "metadata": {},
   "source": [
    "...But J1604-2130 isn't actually that far away, so let's change the distance back to the way it was:"
   ]
  },
  {
   "cell_type": "code",
   "execution_count": null,
   "metadata": {},
   "outputs": [],
   "source": [
    "#Return the distance to a more righteous value\n",
    "kmset_j1604.set_parameter(\"dist\", dist)\n",
    "print(\"The corrected distance value:\")\n",
    "print(kmset_j1604.get_parameter(\"dist\"))"
   ]
  },
  {
   "cell_type": "markdown",
   "metadata": {},
   "source": [
    "### Generating Keplerian masks for an (ALMA) image cube"
   ]
  },
  {
   "cell_type": "markdown",
   "metadata": {},
   "source": [
    "Now that we've created a class instance for J1604-2130, let's load in the molecular line data.  We can do this via the ***extract()*** method, which will feed in the H$_2$CO 3$_{03}$-2$_{02}$ image cube (stored in the .fits file mentioned previously) observed toward J1604-2130:"
   ]
  },
  {
   "cell_type": "code",
   "execution_count": null,
   "metadata": {
    "scrolled": true
   },
   "outputs": [],
   "source": [
    "#Load in the molecular line data\n",
    "fitsname = \"J1604-2130_H2CO_303-202.fits\" #This should point to the location+filename of the image cube .fits file\n",
    "kmset_j1604.extract(fitsname=fitsname)"
   ]
  },
  {
   "cell_type": "markdown",
   "metadata": {},
   "source": [
    "Once the molecular data is loaded, you can use the ***get_parameter()*** method to print any imaging characteristics (in S.I. units), such as the number of channels.  And, as we did before, you can pass in an invalid string to get the full list of parameters that you can access."
   ]
  },
  {
   "cell_type": "code",
   "execution_count": null,
   "metadata": {},
   "outputs": [],
   "source": [
    "#Print the number of channels\n",
    "print(kmset_j1604.get_parameter(\"nchan\"))\n",
    "\n",
    "#Uncomment the line below to get a new helpful error\n",
    "#kmset_j1604.get_parameter(\"helpmeoutagain\")"
   ]
  },
  {
   "cell_type": "markdown",
   "metadata": {},
   "source": [
    "Next, we can use this instance to generate Keplerian masks via the ***generate()*** method.  We'll set the mask boundary to be 350AU.\n",
    "\n",
    "A byproduct of the circular beam convolution approximation within the Keplerian masks is that you get \"lingering\" circular masks out to channels where you'd expect very little, very central, likely unresolved emission.  So we'll just *not* include those far-ou channels by specifying channels 15-30, around where we actually resolve emission.\n",
    "\n",
    "Note also that the Keplerian masks use the parametric velocity broadening scheme from [Yen+2016](https://ui.adsabs.harvard.edu/abs/2016ApJ...832..204Y/abstract) - i.e., $\\Delta V \\approx 4V_0 (R/R_0)^{-q_0}$.  Since J1604-2130 is a pretty face-on disk, we'll use a smaller prefactor ($V_0$) than the \"typical\" values.\n",
    "\n",
    "(You may see some zero-division warnings when you run the cell below.  Just ignore those; they're taken care of within the code.)"
   ]
  },
  {
   "cell_type": "code",
   "execution_count": null,
   "metadata": {
    "scrolled": true
   },
   "outputs": [],
   "source": [
    "#Set the radial boundary and beam convolution factor of the masks\n",
    "Rmax = 350 *au0 #[m]\n",
    "beamfactor = 2.5 #[unitless]\n",
    "\n",
    "#Set the channel indices that will actually have masks.\n",
    "whichchans = np.arange(16, 30+1, 1) #Set to None to mask all channels\n",
    "\n",
    "#Set the velocity broadening parameters\n",
    "V0_ms = 0.15 *1E3 #Prefactor [m/s]\n",
    "R0_AU = 100.0 #Characteristic radius [AU] - note that this is the sole parameter not in S.I. units!\n",
    "q0 = 0.2 #Power law - note that this value should be positive (negation is already within the code)\n",
    "\n",
    "#Generate the Keplerian masks\n",
    "kmset_j1604.generate(mask_Rmax=Rmax, whichchans=whichchans, V0_ms=V0_ms, R0_AU=R0_AU, q0=q0, beamfactor=beamfactor)"
   ]
  },
  {
   "cell_type": "markdown",
   "metadata": {},
   "source": [
    "The masks are now stored within the class instance.\n",
    "\n",
    "Note that ***extract()*** and ***generate()*** are two separate steps, so that you can use the same masks for different molecular lines.\n",
    "\n",
    "For example, if you'd like to apply the same masks to a different molecular line (e.g., C$^{18}$O observed toward J1604-2130), you only need to run ***extract()*** again with the new .fits file name, and then run ***generate()*** again.  Just to be clear, this means that rerunning ***extract()*** for a new .fits file overrides the information previously stored (e.g., H$_2$CO 3$_{03}$-2$_{02}$ in this example would be overridden by C$^{18}$O).\n",
    "\n",
    "Of course, you could also just create an entirely new class instance for each disk+molecular line combination.  Up to you!"
   ]
  },
  {
   "cell_type": "markdown",
   "metadata": {},
   "source": [
    "### Accessing and plotting masked image products (e.g., mom0s and spectra)"
   ]
  },
  {
   "cell_type": "markdown",
   "metadata": {},
   "source": [
    "Now that you've generated the Keplerian masks, you can access them via the ***get_product()*** method.  For example, let's extract the generated masks.  Under the hood, the masks are simple $\\texttt{numpy}$ 3D boolean arrays (dimensions are 0=channel, 1=DEC, and 2=RA)."
   ]
  },
  {
   "cell_type": "code",
   "execution_count": null,
   "metadata": {},
   "outputs": [],
   "source": [
    "#Extract the masks\n",
    "masks = kmset_j1604.get_product(\"masks\") #Now the masks variable contains the masks!"
   ]
  },
  {
   "cell_type": "markdown",
   "metadata": {},
   "source": [
    "Using the same method, we can also extract the channels of data themselves, as well as the computed velocity-integrated emission map (aka, the 'mom0'), the velocity-integrated flux, and the spectrum.  We can use the same $\\texttt{numpy}$ methods from above to save/reload the channel map, spectrum, and mom0 as we see fit.\n",
    "\n",
    "Note that the units are:\n",
    "\n",
    "1. Channel map = flux units / beam\n",
    "1. Spectrum = flux units\n",
    "1. Velocity-integrated flux = flux units $\\times$ m/s\n",
    "1. mom0 = flux units / beam $\\times$ m/s\n",
    "\n",
    "The flux units are *not* changed from whatever the units are in the image cube .fits file (e.g., Janskies)."
   ]
  },
  {
   "cell_type": "code",
   "execution_count": null,
   "metadata": {},
   "outputs": [],
   "source": [
    "#Extract the channels\n",
    "channels = kmset_j1604.get_product(\"channels\") #In units of [flux / beam]\n",
    "\n",
    "#Extract the mom0\n",
    "mom0 = kmset_j1604.get_product(\"mom0\") #In units of [flux / beam * m/s]\n",
    "\n",
    "#Extract the spectrum\n",
    "spectrum = kmset_j1604.get_product(\"spectrum\") #In units of [flux]\n",
    "\n",
    "#Extract the velocity-integrated flux\n",
    "intflux = kmset_j1604.get_product(\"intflux\") #In units of [flux * m/s]"
   ]
  },
  {
   "cell_type": "markdown",
   "metadata": {},
   "source": [
    "Finally, we can plot the channel map, mom0, and spectrum using the ***plot_product()*** method, like so (which assume that the base flux unit is Janskies):"
   ]
  },
  {
   "cell_type": "code",
   "execution_count": null,
   "metadata": {},
   "outputs": [],
   "source": [
    "#Set the velocity range of channels to plot (in [km/s])\n",
    "vrange_kms = [2.2, 6.8]\n",
    "\n",
    "#Plot the channels\n",
    "kmset_j1604.plot_product(\"channels\", vrange_kms=vrange_kms, ncol=5)"
   ]
  },
  {
   "cell_type": "code",
   "execution_count": null,
   "metadata": {},
   "outputs": [],
   "source": [
    "#Plot the mom0\n",
    "kmset_j1604.plot_product(\"mom0\")"
   ]
  },
  {
   "cell_type": "code",
   "execution_count": null,
   "metadata": {},
   "outputs": [],
   "source": [
    "#Plot the spectrum\n",
    "kmset_j1604.plot_product(\"spectrum\", ylim=[-20, 1400])"
   ]
  },
  {
   "cell_type": "markdown",
   "metadata": {},
   "source": [
    "Note that these are *simple* plots, just meant to show you what the data looks like.  They are 'somewhat' customizable (in a user-friendly way).  Some of the common $\\texttt{matplotlib.pyplot}$ parameters (e.g., linewidth, color, and cmap) can be passed into ***plot_product()*** to spice up these simple plots a bit more.  As always, you can use ***help()*** to get a list of all parameters that you can use:"
   ]
  },
  {
   "cell_type": "code",
   "execution_count": null,
   "metadata": {},
   "outputs": [],
   "source": [
    "help(kmset_j1604.plot_product)"
   ]
  },
  {
   "cell_type": "markdown",
   "metadata": {},
   "source": [
    "And if you ever forget the exact keywords you need to access/plot these products, just pass in an invalid string to ***get_product()*** and ***plot_product()*** as applicable.  You'll get a helpful error message, which will tell you the names of all valid products."
   ]
  },
  {
   "cell_type": "code",
   "execution_count": null,
   "metadata": {},
   "outputs": [],
   "source": [
    "#Uncomment the line below to get another helpful error\n",
    "#kmset_j1604.get_product(\"morehelpplease\")\n",
    "\n",
    "#Uncomment the line below to get yet another helpful error\n",
    "#kmset_j1604.plot_product(\"helpmeheretoo\")"
   ]
  },
  {
   "cell_type": "markdown",
   "metadata": {},
   "source": [
    "### Saving masked image products (e.g., mom0s and spectra)"
   ]
  },
  {
   "cell_type": "markdown",
   "metadata": {},
   "source": [
    "We can also save any of our generated products.  We can save them as either a numpy output (\".npy\") or fits output (\".fits\") file.  To do this, we use the ***save_product()*** method:"
   ]
  },
  {
   "cell_type": "code",
   "execution_count": null,
   "metadata": {},
   "outputs": [],
   "source": [
    "#Prepare a filename for saving the masks\n",
    "maskname = \"masks_j1604_H2CO_303-202\" #Name for the saved mask file; no extension needed\n",
    "do_overwrite = True\n",
    "\n",
    "#Save the masks to a .npy file\n",
    "kmset_j1604.save_product(prod=\"masks\", savename=maskname, saveext=\".npy\",\n",
    "                        do_overwrite=do_overwrite) #Save masks under filename, using given extension\n",
    "\n",
    "#Save the spectrum to a .fits file\n",
    "kmset_j1604.save_product(prod=\"masks\", savename=maskname, saveext=\".fits\",\n",
    "                        do_overwrite=do_overwrite) #Save masks under filename, using given extension"
   ]
  },
  {
   "cell_type": "markdown",
   "metadata": {},
   "source": [
    "Note that for products saved as a fits output file, all input parameters stored for that product will be saved in the file's header.  For example, let's look at the header for the spectrum we just saved:"
   ]
  },
  {
   "cell_type": "code",
   "execution_count": null,
   "metadata": {},
   "outputs": [],
   "source": [
    "#Load the saved fits output file\n",
    "fit_masks = fitter.open((maskname+\".fits\"))\n",
    "\n",
    "#Check out the header\n",
    "print(fit_masks[0].header)\n",
    "\n",
    "#Don't forget to close the file\n",
    "fit_masks.close()"
   ]
  },
  {
   "cell_type": "markdown",
   "metadata": {},
   "source": [
    "### Masks with hyperfine structure"
   ]
  },
  {
   "cell_type": "markdown",
   "metadata": {},
   "source": [
    "We can also generate Keplerian masks for molecular lines with hyperfine structure - e.g., HCN 3-2.  So let's put everything we've learned so far together.  Our goal is to generate the final masked products for HCN 3-2 observed toward J1100-7619.  To incorporate the hyperfine structure, we simply use the hypfreqs parameter in the ***generate()*** method.  That's the only procedural difference from what we did before."
   ]
  },
  {
   "cell_type": "code",
   "execution_count": null,
   "metadata": {},
   "outputs": [],
   "source": [
    "#Import the kepmask module as km\n",
    "from pykepmask import kepmask as km\n",
    "#Import constants from astropy\n",
    "import astropy.constants as astconst\n",
    "msun = astconst.M_sun.value #Solar mass [kg]\n",
    "pc0 = astconst.pc.value #Parsec [m]\n",
    "au0 = astconst.au.value #AU [m]\n",
    "#Import pi from numpy\n",
    "import numpy as np\n",
    "pi = np.pi\n",
    "\n",
    "#Declare some values for the disk J1100-7619\n",
    "mstar = 0.23 *msun #[kg]; Stellar mass\n",
    "vsys = 4.75 *1E3 #[m/s]; Systemic velocity\n",
    "dist = 160 *pc0 #[m]; Distance to source\n",
    "PA = (109) *pi/180.0 #[radians]; Position angle\n",
    "inc = (21) *pi/180.0 #[radians]; Inclination angle\n",
    "midx = 200 #[index]; Location along x-axis of midpoint\n",
    "midy = 200 #[index]; Location along y-axis of midpoint\n",
    "\n",
    "#Create an instance of KepMask for J1100-7619\n",
    "kmset_j1100 = km.KepMask(mstar=mstar, vsys=vsys, dist=dist, PA=PA, inc=inc, midx=midx, midy=midy)\n",
    "\n",
    "#Load in the molecular line data\n",
    "fitsname = \"J1100-7619_HCN32.fits\" #This should point to the location+filename of the image cube .fits file\n",
    "kmset_j1100.extract(fitsname=fitsname)\n",
    "\n",
    "#Set the radial boundary and beam convolution parameter of the masks\n",
    "Rmax = 300 *au0 #[m]\n",
    "beamfactor = 2.5 #[unitless]\n",
    "\n",
    "#Set the channel indices that will actually have masks.\n",
    "whichchans = np.arange(40, 90+1, 1) #Set to None to mask all channels\n",
    "\n",
    "#Set the velocity broadening parameters\n",
    "V0_ms = 0.22 *1E3 #Prefactor [m/s]\n",
    "R0_AU = 100.0 #Characteristic radius [AU] - note that this is the sole parameter not in S.I. units!\n",
    "q0 = 0.3 #Power law - note that this value should be positive (negation is already within the code)\n",
    "\n",
    "\n",
    "\n",
    "###NOTE THE USE OF THE hypfreqs PARAMETER HERE!\n",
    "#List the frequencies (in [Hz]) for the hyperfine components you want to include.\n",
    "#NOTE: The main hyperfine frequency should be listed *first*.\n",
    "hypfreqs = np.array([265.88643390, 265.88618860, 265.88649990, 265.88489120, 265.88852210]) *1E9 #[Hz]; 5 major components\n",
    "#Generate the Keplerian masks\n",
    "kmset_j1100.generate(mask_Rmax=Rmax, hypfreqs=hypfreqs, whichchans=whichchans, V0_ms=V0_ms, R0_AU=R0_AU, q0=q0,\n",
    "                    beamfactor=beamfactor)\n",
    "###"
   ]
  },
  {
   "cell_type": "code",
   "execution_count": null,
   "metadata": {},
   "outputs": [],
   "source": [
    "#Print the velocity-integrated flux\n",
    "intflux = kmset_j1100.get_product(\"intflux\")\n",
    "print(\"The velocity-integrated flux is {0:.2f} mJy km/s.\".format(intflux*1E3/1.0E3))"
   ]
  },
  {
   "cell_type": "code",
   "execution_count": null,
   "metadata": {},
   "outputs": [],
   "source": [
    "#Set the velocity range of channels to plot (in [km/s])\n",
    "vrange_kms = [-2.0, 11.8]\n",
    "\n",
    "#Plot the channels\n",
    "kmset_j1100.plot_product(\"channels\", vrange_kms=vrange_kms, ncol=10)"
   ]
  },
  {
   "cell_type": "code",
   "execution_count": null,
   "metadata": {},
   "outputs": [],
   "source": [
    "#Plot the mom0\n",
    "kmset_j1100.plot_product(\"mom0\", xlim=[-2, 2], ylim=[-2, 2], beamx=0.95, beamy=0.05)"
   ]
  },
  {
   "cell_type": "code",
   "execution_count": null,
   "metadata": {},
   "outputs": [],
   "source": [
    "#Plot the spectrum\n",
    "kmset_j1100.plot_product(\"spectrum\", xlim=[-5, 5], ylim=[-20, 1200])"
   ]
  },
  {
   "cell_type": "markdown",
   "metadata": {},
   "source": [
    "### Generating Keplerian masks for a synthetic image cube"
   ]
  },
  {
   "cell_type": "markdown",
   "metadata": {},
   "source": [
    "We can also create Keplerian masks for a completely synthetic image cube, by passing in a set of disk and image parameters.  We can do this via the ***synthesize()*** method.  Let's start by making some fake disk and image data:"
   ]
  },
  {
   "cell_type": "code",
   "execution_count": null,
   "metadata": {},
   "outputs": [],
   "source": [
    "#Set some synthetic image parameters\n",
    "nchan = 55 #Number of channels in synthetic image\n",
    "RAlen = 200 #X-axis length of synthetic image\n",
    "RAstart = 15 *pi/180 #[rad]; Start of RA array\n",
    "RAwidth = (0.1/3600) *pi/180 #[rad]; Spacing of RA array\n",
    "DEClen = 100 #Y-axis length of synthetic image\n",
    "DECstart = 10 *pi/180 #[rad]; Start of RA array\n",
    "DECwidth = (0.05/3600) *pi/180 #[rad]; Spacing of DEC array\n",
    "velstart = 2.5 *1E3 #[m/s]; Start of velocity array\n",
    "velwidth = 0.1 *1E3 #[m/s]; Spacing of the velocity array\n",
    "bmaj = (0.50/3600) *pi/180 #[rad]; Full major axis of beam\n",
    "bmin = (0.35/3600) *pi/180 #[rad]; Full minor axis of beam\n",
    "bpa = (60) *pi/180 #[rad]; Position angle of beam\n",
    "\n",
    "#Set some synthetic disk parameters\n",
    "mstar = 1 *msun #[kg]; Stellar mass\n",
    "vsys = 5.5 *1E3 #[m/s]; Systemic velocity\n",
    "dist = 100 *pc0 #[m]; Distance to source\n",
    "PA = (100) *pi/180.0 #[radians]; Position angle\n",
    "inc = (10) *pi/180.0 #[radians]; Inclination angle\n",
    "midx = RAlen * 3 // 4 #[index]; Location along x-axis of midpoint\n",
    "midy = DEClen // 2 #[index]; Location along y-axis of midpoint\n",
    "\n",
    "#Set some synthetic mask parameters\n",
    "Rmax = 150 *au0 #[m]\n",
    "beamfactor = 5 #[unitless]\n",
    "whichchans = None #np.arange(15, 40+1, 1) #Set to None to mask all channels\n",
    "V0_ms = 0.15 *1E3 #Prefactor [m/s]\n",
    "R0_AU = 50.0 #Characteristic radius [AU] - note that this is the sole parameter not in S.I. units!\n",
    "q0 = 0.15 #Power law - note that this value should be positive (negation is already within the code)"
   ]
  },
  {
   "cell_type": "markdown",
   "metadata": {},
   "source": [
    "Now let's create a Keplerian mask for the synthetic image:"
   ]
  },
  {
   "cell_type": "code",
   "execution_count": null,
   "metadata": {},
   "outputs": [],
   "source": [
    "#Create an instance of KepMask for a generic disk around a solar mass star\n",
    "kmset_synth = km.KepMask(mstar=mstar, vsys=vsys, dist=dist,\n",
    "                            PA=PA, inc=inc, midx=midx, midy=midy)\n",
    "\n",
    "#Feed in the synthetic image details\n",
    "kmset_synth.synthesize(nchan=nchan, ralen=RAlen, rastart=RAstart, rawidth=RAwidth,\n",
    "                       declen=DEClen, decstart=DECstart, decwidth=DECwidth,\n",
    "                       velstart=velstart, velwidth=velwidth,\n",
    "                       bmaj=bmaj, bmin=bmin, bpa=bpa)\n",
    "\n",
    "#Generate the Keplerian masks in the synthetic image\n",
    "kmset_synth.generate(mask_Rmax=Rmax, whichchans=whichchans, V0_ms=V0_ms, R0_AU=R0_AU, q0=q0, beamfactor=beamfactor)"
   ]
  },
  {
   "cell_type": "markdown",
   "metadata": {},
   "source": [
    "And we can plot the Keplerian mask within the synthetic image using the same channel map plotter as before:"
   ]
  },
  {
   "cell_type": "code",
   "execution_count": null,
   "metadata": {
    "scrolled": true
   },
   "outputs": [],
   "source": [
    "#Plot the masks in the synthetic channels\n",
    "vrange_kms = [-4, 10]\n",
    "kmset_synth.plot_product(\"channels\", vrange_kms=vrange_kms, ncol=10)"
   ]
  },
  {
   "cell_type": "markdown",
   "metadata": {},
   "source": [
    "Finally, we can save the masks using the same procedure as before:"
   ]
  },
  {
   "cell_type": "code",
   "execution_count": null,
   "metadata": {},
   "outputs": [],
   "source": [
    "#Extract the masks\n",
    "masks = kmset_synth.get_product(\"masks\") #Fetch the masks into a variable\n",
    "\n",
    "#Save the masks\n",
    "maskname = \"masks_synth\" #Name for the saved mask file\n",
    "do_overwrite = True\n",
    "kmset_synth.save_product(prod=\"masks\", savename=maskname, saveext=\".npy\",\n",
    "                        do_overwrite=do_overwrite) #Save masks as .npy file\n",
    "kmset_synth.save_product(prod=\"masks\", savename=maskname, saveext=\".fits\",\n",
    "                        do_overwrite=do_overwrite) #Save masks as .fits file"
   ]
  },
  {
   "cell_type": "markdown",
   "metadata": {},
   "source": [
    "And that's all she wrote, folks!\n",
    "\n",
    "If you have any questions/concerns with pykepmask, suggestions for improvements/new features, and/or any issues that you've found, ***please*** do let us know on [the GitHub page](https://github.com/jpegues/kepmask)!"
   ]
  },
  {
   "cell_type": "code",
   "execution_count": null,
   "metadata": {},
   "outputs": [],
   "source": [
    "print(\"This tutorial has completed successfully.\")"
   ]
  }
 ],
 "metadata": {
  "kernelspec": {
   "display_name": "Python 3",
   "language": "python",
   "name": "python3"
  },
  "language_info": {
   "codemirror_mode": {
    "name": "ipython",
    "version": 3
   },
   "file_extension": ".py",
   "mimetype": "text/x-python",
   "name": "python",
   "nbconvert_exporter": "python",
   "pygments_lexer": "ipython3",
   "version": "3.8.8"
  }
 },
 "nbformat": 4,
 "nbformat_minor": 2
}
